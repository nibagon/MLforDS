{
  "nbformat": 4,
  "nbformat_minor": 0,
  "metadata": {
    "colab": {
      "name": "Regression_part2.ipynb",
      "provenance": [],
      "mount_file_id": "1j6d_P3TCGeElwz-2HzAdlAw9ilq5KKHV",
      "authorship_tag": "ABX9TyMaDdrJRM8MTp9W2Dj82lKG",
      "include_colab_link": true
    },
    "kernelspec": {
      "name": "python3",
      "display_name": "Python 3"
    },
    "language_info": {
      "name": "python"
    }
  },
  "cells": [
    {
      "cell_type": "markdown",
      "metadata": {
        "id": "view-in-github",
        "colab_type": "text"
      },
      "source": [
        "<a href=\"https://colab.research.google.com/github/nibagon/MLforDS/blob/main/Unit1_regression/Regression_part2.ipynb\" target=\"_parent\"><img src=\"https://colab.research.google.com/assets/colab-badge.svg\" alt=\"Open In Colab\"/></a>"
      ]
    },
    {
      "cell_type": "markdown",
      "metadata": {
        "id": "F3nZyxez2hzK"
      },
      "source": [
        "Load data:"
      ]
    },
    {
      "cell_type": "code",
      "metadata": {
        "colab": {
          "base_uri": "https://localhost:8080/"
        },
        "id": "aBYdwRva2uAR",
        "outputId": "42d1578b-1ea1-464e-f509-d2d186ca5b93"
      },
      "source": [
        "import numpy as np\n",
        "%matplotlib inline\n",
        "import pylab as plt\n",
        "\n",
        "data=np.loadtxt(\"/content/drive/MyDrive/Colab Notebooks/ML/Unit1_regression/data.txt\", delimiter=\",\")\n",
        "data"
      ],
      "execution_count": 2,
      "outputs": [
        {
          "output_type": "execute_result",
          "data": {
            "text/plain": [
              "array([[1896.  ,   12.  ],\n",
              "       [1900.  ,   11.  ],\n",
              "       [1904.  ,   11.  ],\n",
              "       [1906.  ,   11.2 ],\n",
              "       [1908.  ,   10.8 ],\n",
              "       [1912.  ,   10.8 ],\n",
              "       [1920.  ,   10.8 ],\n",
              "       [1924.  ,   10.6 ],\n",
              "       [1928.  ,   10.8 ],\n",
              "       [1932.  ,   10.3 ],\n",
              "       [1936.  ,   10.3 ],\n",
              "       [1948.  ,   10.3 ],\n",
              "       [1952.  ,   10.4 ],\n",
              "       [1956.  ,   10.5 ],\n",
              "       [1960.  ,   10.2 ],\n",
              "       [1964.  ,   10.  ],\n",
              "       [1968.  ,    9.95],\n",
              "       [1972.  ,   10.14],\n",
              "       [1976.  ,   10.06],\n",
              "       [1980.  ,   10.25],\n",
              "       [1984.  ,    9.99],\n",
              "       [1988.  ,    9.92],\n",
              "       [1992.  ,    9.96],\n",
              "       [1996.  ,    9.84],\n",
              "       [2000.  ,    9.87],\n",
              "       [2004.  ,    9.85],\n",
              "       [2008.  ,    9.69]])"
            ]
          },
          "metadata": {},
          "execution_count": 2
        }
      ]
    },
    {
      "cell_type": "code",
      "metadata": {
        "id": "4Z6qeLMe31Ar"
      },
      "source": [
        "x = data[:,0][:,None] # make x a matrix\n",
        "t = data[:,1][:,None] # make t a column vector "
      ],
      "execution_count": 13,
      "outputs": []
    },
    {
      "cell_type": "code",
      "metadata": {
        "colab": {
          "base_uri": "https://localhost:8080/"
        },
        "id": "nGk2vMmj363M",
        "outputId": "f14c4667-6dbb-40e2-a343-decdca10eab5"
      },
      "source": [
        "x"
      ],
      "execution_count": 14,
      "outputs": [
        {
          "output_type": "execute_result",
          "data": {
            "text/plain": [
              "array([[1896.],\n",
              "       [1900.],\n",
              "       [1904.],\n",
              "       [1906.],\n",
              "       [1908.],\n",
              "       [1912.],\n",
              "       [1920.],\n",
              "       [1924.],\n",
              "       [1928.],\n",
              "       [1932.],\n",
              "       [1936.],\n",
              "       [1948.],\n",
              "       [1952.],\n",
              "       [1956.],\n",
              "       [1960.],\n",
              "       [1964.],\n",
              "       [1968.],\n",
              "       [1972.],\n",
              "       [1976.],\n",
              "       [1980.],\n",
              "       [1984.],\n",
              "       [1988.],\n",
              "       [1992.],\n",
              "       [1996.],\n",
              "       [2000.],\n",
              "       [2004.],\n",
              "       [2008.]])"
            ]
          },
          "metadata": {},
          "execution_count": 14
        }
      ]
    },
    {
      "cell_type": "markdown",
      "metadata": {
        "id": "V6tC51zU2wBP"
      },
      "source": [
        "## Perform polynomial Regression\n",
        "**1.** Rescale  x \n",
        "We rescale  x to make it small. Doing so will stablise the computatoin, otherwise it quickly becomes unfeasible to fit polynomials over ~ 2000 . \n"
      ]
    },
    {
      "cell_type": "code",
      "metadata": {
        "id": "5ejfjwzj4w2N"
      },
      "source": [
        "def transform(x):\n",
        "  (x-np.mean(x))/np.std(x)\n",
        "  return x"
      ],
      "execution_count": 15,
      "outputs": []
    },
    {
      "cell_type": "code",
      "metadata": {
        "colab": {
          "base_uri": "https://localhost:8080/",
          "height": 296
        },
        "id": "_KZ0RadB4mCd",
        "outputId": "3fc86393-d7fb-4ab5-af82-7d2ef363c8d5"
      },
      "source": [
        "x = transform(x)\n",
        "plt.plot(x, t, 'ro')\n",
        "plt.xlabel('Rescaled years')\n",
        "plt.ylabel('Time (seconds)')"
      ],
      "execution_count": 17,
      "outputs": [
        {
          "output_type": "execute_result",
          "data": {
            "text/plain": [
              "Text(0, 0.5, 'Time (seconds)')"
            ]
          },
          "metadata": {},
          "execution_count": 17
        },
        {
          "output_type": "display_data",
          "data": {
            "image/png": "[encoded data removed]",
            "text/plain": [
              "<Figure size 432x288 with 1 Axes>"
            ]
          },
          "metadata": {
            "needs_background": "light"
          }
        }
      ]
    }
  ]
}