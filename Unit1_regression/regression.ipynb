{
  "nbformat": 4,
  "nbformat_minor": 0,
  "metadata": {
    "colab": {
      "name": "regression.ipynb",
      "provenance": [],
      "mount_file_id": "https://github.com/nibagon/MLforDS/blob/main/Unit1_regression/regression.ipynb",
      "authorship_tag": "ABX9TyPsP4nmcqOvhA3DS3QzKWPH",
      "include_colab_link": true
    },
    "kernelspec": {
      "name": "python3",
      "display_name": "Python 3"
    },
    "language_info": {
      "name": "python"
    }
  },
  "cells": [
    {
      "cell_type": "markdown",
      "metadata": {
        "id": "view-in-github",
        "colab_type": "text"
      },
      "source": [
        "<a href=\"https://colab.research.google.com/github/nibagon/MLforDS/blob/main/Unit1_regression/regression.ipynb\" target=\"_parent\"><img src=\"https://colab.research.google.com/assets/colab-badge.svg\" alt=\"Open In Colab\"/></a>"
      ]
    },
    {
      "cell_type": "markdown",
      "metadata": {
        "id": "ju6cGTFrxkDB"
      },
      "source": [
        "#### Task 1: Download and import the olympic data\n",
        "\n",
        "Reference to `loadtxt` https://docs.scipy.org/doc/numpy/reference/generated/numpy.loadtxt.html"
      ]
    },
    {
      "cell_type": "code",
      "metadata": {
        "id": "xBc5m_dAxrZ4",
        "outputId": "b6795b63-9d57-462e-a75d-88f190ba6930",
        "colab": {
          "base_uri": "https://localhost:8080/"
        }
      },
      "source": [
        "import numpy as np\n",
        "%matplotlib inline\n",
        "import pylab as plt\n",
        "\n",
        "data=np.loadtxt(\"/content/drive/MyDrive/Colab Notebooks/ML/Unit1_regression/data.txt\", delimiter=\",\")\n",
        "data"
      ],
      "execution_count": 2,
      "outputs": [
        {
          "output_type": "execute_result",
          "data": {
            "text/plain": [
              "array([[1896.  ,   12.  ],\n",
              "       [1900.  ,   11.  ],\n",
              "       [1904.  ,   11.  ],\n",
              "       [1906.  ,   11.2 ],\n",
              "       [1908.  ,   10.8 ],\n",
              "       [1912.  ,   10.8 ],\n",
              "       [1920.  ,   10.8 ],\n",
              "       [1924.  ,   10.6 ],\n",
              "       [1928.  ,   10.8 ],\n",
              "       [1932.  ,   10.3 ],\n",
              "       [1936.  ,   10.3 ],\n",
              "       [1948.  ,   10.3 ],\n",
              "       [1952.  ,   10.4 ],\n",
              "       [1956.  ,   10.5 ],\n",
              "       [1960.  ,   10.2 ],\n",
              "       [1964.  ,   10.  ],\n",
              "       [1968.  ,    9.95],\n",
              "       [1972.  ,   10.14],\n",
              "       [1976.  ,   10.06],\n",
              "       [1980.  ,   10.25],\n",
              "       [1984.  ,    9.99],\n",
              "       [1988.  ,    9.92],\n",
              "       [1992.  ,    9.96],\n",
              "       [1996.  ,    9.84],\n",
              "       [2000.  ,    9.87],\n",
              "       [2004.  ,    9.85],\n",
              "       [2008.  ,    9.69]])"
            ]
          },
          "metadata": {},
          "execution_count": 2
        }
      ]
    },
    {
      "cell_type": "markdown",
      "metadata": {
        "id": "Kqb7ZfhFx294"
      },
      "source": [
        "#### Task 2: Plot the data\n",
        "Reference to `scatter`: https://matplotlib.org/3.1.1/api/_as_gen/matplotlib.pyplot.scatter.html\n"
      ]
    },
    {
      "cell_type": "code",
      "metadata": {
        "colab": {
          "base_uri": "https://localhost:8080/",
          "height": 296
        },
        "id": "wrZ7ynH0ksTT",
        "outputId": "3efddd39-ee9a-4a5e-d51f-adeba467a6cb"
      },
      "source": [
        "x = data[:,0]\n",
        "t = data[:,1]\n",
        "plt.scatter(x,t)\n",
        "plt.xlabel(\"years\")\n",
        "plt.ylabel(\"time (s)\")"
      ],
      "execution_count": 3,
      "outputs": [
        {
          "output_type": "execute_result",
          "data": {
            "text/plain": [
              "Text(0, 0.5, 'time (s)')"
            ]
          },
          "metadata": {},
          "execution_count": 3
        },
        {
          "output_type": "display_data",
          "data": {
            "image/png": "[encoded data removed]",
            "text/plain": [
              "<Figure size 432x288 with 1 Axes>"
            ]
          },
          "metadata": {
            "needs_background": "light"
          }
        }
      ]
    },
    {
      "cell_type": "markdown",
      "metadata": {
        "id": "OIncm-1ulour"
      },
      "source": [
        "#### Task 3. Fit a straightline using `LinearRegression` in `sklean`. Plot the model with the data and prediction at 2012.\n",
        "Reference to `LinearRegression`: https://scikit-learn.org/stable/modules/generated/sklearn.linear_model.LinearRegression.html"
      ]
    },
    {
      "cell_type": "code",
      "metadata": {
        "id": "eKssBCfYllmk",
        "colab": {
          "base_uri": "https://localhost:8080/",
          "height": 296
        },
        "outputId": "d6a62eaa-daba-4eae-cb0a-908c4b324395"
      },
      "source": [
        "w_0=36.416545559025\n",
        "w_1=-0.013333\n",
        "\n",
        "x_test=np.linspace(1880,2020,100)\n",
        "ftest=w_0+w_1*x_test\n",
        "plt.plot(x_test,ftest, \"b-\", linewidth=2)\n",
        "\n",
        "plt.scatter(x,t)\n",
        "plt.xlabel(\"years\")\n",
        "plt.ylabel(\"time (s)\")"
      ],
      "execution_count": 4,
      "outputs": [
        {
          "output_type": "execute_result",
          "data": {
            "text/plain": [
              "Text(0, 0.5, 'time (s)')"
            ]
          },
          "metadata": {},
          "execution_count": 4
        },
        {
          "output_type": "display_data",
          "data": {
            "image/png": "[encoded data removed]",
            "text/plain": [
              "<Figure size 432x288 with 1 Axes>"
            ]
          },
          "metadata": {
            "needs_background": "light"
          }
        }
      ]
    },
    {
      "cell_type": "markdown",
      "metadata": {
        "id": "DZxx4Ug1n1cD"
      },
      "source": [
        "#model fitting"
      ]
    },
    {
      "cell_type": "markdown",
      "metadata": {
        "id": "sRMmS8Grs994"
      },
      "source": [
        "Recall that the average loss is $$  L(w_0, w_1) = \\frac{1}{N}\\sum_{n=1}^N (t_n - w_0 - w_1x_n)^2 $$\n",
        "$L$ is a function of $w_0$ and $w_1$. All $x_n$ and $t_n$ are given.  \n",
        "\n",
        "The procedure to find the analytical expression of the optimal parameters is the following:\n",
        "\n",
        "- Solving $$\\frac{\\partial L(w_0, w_1)}{\\partial w_0} = 0, \\quad \\frac{\\partial L(w_0, w_1)}{\\partial w_1} = 0 $$ \n",
        "- the average loss is minimised:\n",
        "$$ w_1 = \\frac{\\bar{x}\\bar{t} - \\bar{xt}}{\\bar{x}\\bar{x} - \\bar{x^2}} $$\n",
        "and\n",
        "$$ w_0 = \\bar{t} - w_1\\bar{x} $$\n",
        "where $\\bar{z} = \\frac{1}{N}\\sum_{n=1}^N z_n$."
      ]
    },
    {
      "cell_type": "code",
      "metadata": {
        "id": "IWx-J_M3lvzN"
      },
      "source": [
        "from sklearn.linear_model import LinearRegression\n",
        "#do not repet this one because it will create 4 dimension arrays \n",
        "x=x[:,None]\n",
        "t=t[:,None]\n",
        "\n",
        "reg=LinearRegression().fit(x,t)"
      ],
      "execution_count": 5,
      "outputs": []
    },
    {
      "cell_type": "code",
      "metadata": {
        "id": "CbTM0QWgosMy",
        "colab": {
          "base_uri": "https://localhost:8080/"
        },
        "outputId": "70a21974-51fc-4b86-baf8-98dc9a57cd9f"
      },
      "source": [
        "[reg.intercept_,reg.coef_]# y1 and m"
      ],
      "execution_count": 6,
      "outputs": [
        {
          "output_type": "execute_result",
          "data": {
            "text/plain": [
              "[array([36.4164559]), array([[-0.01333089]])]"
            ]
          },
          "metadata": {},
          "execution_count": 6
        }
      ]
    },
    {
      "cell_type": "code",
      "metadata": {
        "id": "BWFugdgbo9ei",
        "colab": {
          "base_uri": "https://localhost:8080/"
        },
        "outputId": "f5749ab6-4229-4685-d79d-120b351ba10d"
      },
      "source": [
        "reg.predict(np.array([[2012]]))"
      ],
      "execution_count": 7,
      "outputs": [
        {
          "output_type": "execute_result",
          "data": {
            "text/plain": [
              "array([[9.59471385]])"
            ]
          },
          "metadata": {},
          "execution_count": 7
        }
      ]
    },
    {
      "cell_type": "code",
      "metadata": {
        "id": "0USIzeQY0sCw",
        "outputId": "dd42ceac-3807-46b2-c831-12777ffd4340",
        "colab": {
          "base_uri": "https://localhost:8080/"
        }
      },
      "source": [
        "xbar=(1/len(x))*sum(x)\n",
        "tbar=(1/len(t))*sum(t)\n",
        "xxbar=(1/len(x*x))*sum(x*x)\n",
        "xtbar=(1/len(x*t))*sum(x*t)\n",
        "print(xbar)\n",
        "print(tbar)\n",
        "print(xxbar)\n",
        "print(xtbar)"
      ],
      "execution_count": 13,
      "outputs": [
        {
          "output_type": "stream",
          "name": "stdout",
          "text": [
            "[1952.37037037]\n",
            "[10.38962963]\n",
            "[3812975.55555556]\n",
            "[20268.06814815]\n"
          ]
        }
      ]
    },
    {
      "cell_type": "code",
      "metadata": {
        "id": "hUHB_Nkd6FXo",
        "outputId": "64b0a80b-bb20-4670-f3b8-0305f125efc2",
        "colab": {
          "base_uri": "https://localhost:8080/"
        }
      },
      "source": [
        "type(xbar**2)"
      ],
      "execution_count": 30,
      "outputs": [
        {
          "output_type": "execute_result",
          "data": {
            "text/plain": [
              "numpy.ndarray"
            ]
          },
          "metadata": {},
          "execution_count": 30
        }
      ]
    },
    {
      "cell_type": "code",
      "metadata": {
        "id": "la8BG_P72Qio",
        "outputId": "0eb6c969-5223-4d12-a438-9b55a6d5e915",
        "colab": {
          "base_uri": "https://localhost:8080/"
        }
      },
      "source": [
        "w1=((xbar*tbar)-xtbar)/(xbar**2-xxbar)\n",
        "w0=tbar-w1*xbar\n",
        "w0\n"
      ],
      "execution_count": 34,
      "outputs": [
        {
          "output_type": "execute_result",
          "data": {
            "text/plain": [
              "array([36.4164559])"
            ]
          },
          "metadata": {},
          "execution_count": 34
        }
      ]
    },
    {
      "cell_type": "code",
      "metadata": {
        "id": "DrsSMvS1q4k2",
        "colab": {
          "base_uri": "https://localhost:8080/",
          "height": 296
        },
        "outputId": "95300493-004f-4b1f-9bfc-09cf504caa69"
      },
      "source": [
        "x_test=np.linspace(1880,2020,100)[:,None] #important to add the [:,none]\n",
        "f_test=reg.predict(x_test)\n",
        "\n",
        "plt.plot(x_test,f_test, \"b-\", linewidth=2)\n",
        "\n",
        "plt.scatter(x,t)\n",
        "plt.scatter(2012,reg.predict(np.array([[2012]])))\n",
        "plt.xlabel(\"years\")\n",
        "plt.ylabel(\"time (s)\")\n"
      ],
      "execution_count": 41,
      "outputs": [
        {
          "output_type": "execute_result",
          "data": {
            "text/plain": [
              "Text(0, 0.5, 'time (s)')"
            ]
          },
          "metadata": {},
          "execution_count": 41
        },
        {
          "output_type": "display_data",
          "data": {
            "image/png": "[encoded data removed]",
            "text/plain": [
              "<Figure size 432x288 with 1 Axes>"
            ]
          },
          "metadata": {
            "needs_background": "light"
          }
        }
      ]
    },
    {
      "cell_type": "markdown",
      "metadata": {
        "id": "K8FBhfiXpohn"
      },
      "source": [
        "#add an outlier"
      ]
    },
    {
      "cell_type": "code",
      "metadata": {
        "id": "-MAumapyprxW",
        "colab": {
          "base_uri": "https://localhost:8080/",
          "height": 296
        },
        "outputId": "7d3b1f5a-1c39-4668-ed91-3bfddd397eb1"
      },
      "source": [
        "outlier_idx=np.array([0])\n",
        "t_outlier= t\n",
        "t_outlier[outlier_idx]=20\n",
        "plt.scatter(x,t_outlier)\n",
        "plt.xlabel(\"years\")\n",
        "plt.ylabel(\"time (s)\")"
      ],
      "execution_count": null,
      "outputs": [
        {
          "output_type": "execute_result",
          "data": {
            "text/plain": [
              "Text(0, 0.5, 'time (s)')"
            ]
          },
          "metadata": {},
          "execution_count": 19
        },
        {
          "output_type": "display_data",
          "data": {
            "image/png": "[encoded data removed]",
            "text/plain": [
              "<Figure size 432x288 with 1 Axes>"
            ]
          },
          "metadata": {
            "needs_background": "light"
          }
        }
      ]
    },
    {
      "cell_type": "code",
      "metadata": {
        "id": "99fHWUq5qdVV",
        "colab": {
          "base_uri": "https://localhost:8080/",
          "height": 296
        },
        "outputId": "1be90d64-87c6-4610-89fa-06f3b8a41bc5"
      },
      "source": [
        "reg=LinearRegression().fit(x,t_outlier)\n",
        "\n",
        "x_test=np.linspace(1880,2020,100)[:,None] #important to add the [:,none]\n",
        "f_test=reg.predict(x_test)\n",
        "\n",
        "plt.plot(x_test,f_test, \"b-\", linewidth=2)\n",
        "\n",
        "plt.scatter(x,t_outlier)\n",
        "plt.xlabel(\"years\")\n",
        "plt.ylabel(\"time (s)\")"
      ],
      "execution_count": null,
      "outputs": [
        {
          "output_type": "execute_result",
          "data": {
            "text/plain": [
              "Text(0, 0.5, 'time (s)')"
            ]
          },
          "metadata": {},
          "execution_count": 29
        },
        {
          "output_type": "display_data",
          "data": {
            "image/png": "[encoded data removed]",
            "text/plain": [
              "<Figure size 432x288 with 1 Axes>"
            ]
          },
          "metadata": {
            "needs_background": "light"
          }
        }
      ]
    },
    {
      "cell_type": "markdown",
      "metadata": {
        "id": "gatyYvEJsHom"
      },
      "source": [
        "The outlier hurts linear regression so a way of solving it is using polynomial Regression"
      ]
    },
    {
      "cell_type": "markdown",
      "metadata": {
        "id": "QvOyzjXjsXA2"
      },
      "source": [
        "# Polynomial regression"
      ]
    },
    {
      "cell_type": "code",
      "metadata": {
        "id": "S3cQ3QLhseIm"
      },
      "source": [
        "#function to construct a polynomial matrix\n",
        "def make_polynomial (x, maxorder):\n",
        "  X=np.ones_like(x)\n",
        "  for i in range(1,maxorder+1):\n",
        "    X=np.hstack((X,x**i))\n",
        "  return(X)"
      ],
      "execution_count": null,
      "outputs": []
    },
    {
      "cell_type": "code",
      "metadata": {
        "id": "SzSN2RIDue1Z",
        "colab": {
          "base_uri": "https://localhost:8080/"
        },
        "outputId": "abcd9083-6fe8-49b7-f47d-b33133f3b69f"
      },
      "source": [
        "poly_order=3\n",
        "poly_X=make_polynomial(x,poly_order)\n",
        "poly_X"
      ],
      "execution_count": null,
      "outputs": [
        {
          "output_type": "execute_result",
          "data": {
            "text/plain": [
              "array([[1.00000000e+00, 1.89600000e+03, 3.59481600e+06, 6.81577114e+09],\n",
              "       [1.00000000e+00, 1.90000000e+03, 3.61000000e+06, 6.85900000e+09],\n",
              "       [1.00000000e+00, 1.90400000e+03, 3.62521600e+06, 6.90241126e+09],\n",
              "       [1.00000000e+00, 1.90600000e+03, 3.63283600e+06, 6.92418542e+09],\n",
              "       [1.00000000e+00, 1.90800000e+03, 3.64046400e+06, 6.94600531e+09],\n",
              "       [1.00000000e+00, 1.91200000e+03, 3.65574400e+06, 6.98978253e+09],\n",
              "       [1.00000000e+00, 1.92000000e+03, 3.68640000e+06, 7.07788800e+09],\n",
              "       [1.00000000e+00, 1.92400000e+03, 3.70177600e+06, 7.12221702e+09],\n",
              "       [1.00000000e+00, 1.92800000e+03, 3.71718400e+06, 7.16673075e+09],\n",
              "       [1.00000000e+00, 1.93200000e+03, 3.73262400e+06, 7.21142957e+09],\n",
              "       [1.00000000e+00, 1.93600000e+03, 3.74809600e+06, 7.25631386e+09],\n",
              "       [1.00000000e+00, 1.94800000e+03, 3.79470400e+06, 7.39208339e+09],\n",
              "       [1.00000000e+00, 1.95200000e+03, 3.81030400e+06, 7.43771341e+09],\n",
              "       [1.00000000e+00, 1.95600000e+03, 3.82593600e+06, 7.48353082e+09],\n",
              "       [1.00000000e+00, 1.96000000e+03, 3.84160000e+06, 7.52953600e+09],\n",
              "       [1.00000000e+00, 1.96400000e+03, 3.85729600e+06, 7.57572934e+09],\n",
              "       [1.00000000e+00, 1.96800000e+03, 3.87302400e+06, 7.62211123e+09],\n",
              "       [1.00000000e+00, 1.97200000e+03, 3.88878400e+06, 7.66868205e+09],\n",
              "       [1.00000000e+00, 1.97600000e+03, 3.90457600e+06, 7.71544218e+09],\n",
              "       [1.00000000e+00, 1.98000000e+03, 3.92040000e+06, 7.76239200e+09],\n",
              "       [1.00000000e+00, 1.98400000e+03, 3.93625600e+06, 7.80953190e+09],\n",
              "       [1.00000000e+00, 1.98800000e+03, 3.95214400e+06, 7.85686227e+09],\n",
              "       [1.00000000e+00, 1.99200000e+03, 3.96806400e+06, 7.90438349e+09],\n",
              "       [1.00000000e+00, 1.99600000e+03, 3.98401600e+06, 7.95209594e+09],\n",
              "       [1.00000000e+00, 2.00000000e+03, 4.00000000e+06, 8.00000000e+09],\n",
              "       [1.00000000e+00, 2.00400000e+03, 4.01601600e+06, 8.04809606e+09],\n",
              "       [1.00000000e+00, 2.00800000e+03, 4.03206400e+06, 8.09638451e+09]])"
            ]
          },
          "metadata": {},
          "execution_count": 31
        }
      ]
    },
    {
      "cell_type": "code",
      "metadata": {
        "id": "U3imQzAXu40a"
      },
      "source": [
        "poly_reg=LinearRegression(poly_X,t)#the polynomial is our X_train\n"
      ],
      "execution_count": null,
      "outputs": []
    }
  ]
}