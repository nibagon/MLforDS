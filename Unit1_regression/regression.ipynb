{
  "nbformat": 4,
  "nbformat_minor": 0,
  "metadata": {
    "colab": {
      "name": "regression.ipynb",
      "provenance": [],
      "mount_file_id": "https://github.com/nibagon/MLforDS/blob/main/Unit1_regression/regression.ipynb",
      "authorship_tag": "ABX9TyNK/uZFeATq2GBK17ZgxI5W",
      "include_colab_link": true
    },
    "kernelspec": {
      "name": "python3",
      "display_name": "Python 3"
    },
    "language_info": {
      "name": "python"
    }
  },
  "cells": [
    {
      "cell_type": "markdown",
      "metadata": {
        "id": "view-in-github",
        "colab_type": "text"
      },
      "source": [
        "<a href=\"https://colab.research.google.com/github/nibagon/MLforDS/blob/main/Unit1_regression/regression.ipynb\" target=\"_parent\"><img src=\"https://colab.research.google.com/assets/colab-badge.svg\" alt=\"Open In Colab\"/></a>"
      ]
    },
    {
      "cell_type": "code",
      "metadata": {
        "id": "qQuPCHg5c-CW",
        "outputId": "3165e4b9-93ea-4656-e318-38a4aabcfedf",
        "colab": {
          "base_uri": "https://localhost:8080/"
        }
      },
      "source": [
        "import numpy as np\n",
        "%matplotlib inline\n",
        "import pylab as plt\n",
        "\n",
        "data=np.loadtxt(\"/content/drive/MyDrive/Colab Notebooks/ML/Unit1_regression/data.txt\", delimiter=\",\")\n",
        "data"
      ],
      "execution_count": 7,
      "outputs": [
        {
          "output_type": "execute_result",
          "data": {
            "text/plain": [
              "array([[1896.  ,   12.  ],\n",
              "       [1900.  ,   11.  ],\n",
              "       [1904.  ,   11.  ],\n",
              "       [1906.  ,   11.2 ],\n",
              "       [1908.  ,   10.8 ],\n",
              "       [1912.  ,   10.8 ],\n",
              "       [1920.  ,   10.8 ],\n",
              "       [1924.  ,   10.6 ],\n",
              "       [1928.  ,   10.8 ],\n",
              "       [1932.  ,   10.3 ],\n",
              "       [1936.  ,   10.3 ],\n",
              "       [1948.  ,   10.3 ],\n",
              "       [1952.  ,   10.4 ],\n",
              "       [1956.  ,   10.5 ],\n",
              "       [1960.  ,   10.2 ],\n",
              "       [1964.  ,   10.  ],\n",
              "       [1968.  ,    9.95],\n",
              "       [1972.  ,   10.14],\n",
              "       [1976.  ,   10.06],\n",
              "       [1980.  ,   10.25],\n",
              "       [1984.  ,    9.99],\n",
              "       [1988.  ,    9.92],\n",
              "       [1992.  ,    9.96],\n",
              "       [1996.  ,    9.84],\n",
              "       [2000.  ,    9.87],\n",
              "       [2004.  ,    9.85],\n",
              "       [2008.  ,    9.69]])"
            ]
          },
          "metadata": {},
          "execution_count": 7
        }
      ]
    },
    {
      "cell_type": "code",
      "metadata": {
        "id": "wrZ7ynH0ksTT",
        "outputId": "50d6eb58-fb74-4d15-d64b-2513317f377f",
        "colab": {
          "base_uri": "https://localhost:8080/",
          "height": 296
        }
      },
      "source": [
        "x = data[:,0]\n",
        "t = data[:,1]\n",
        "plt.scatter(x,t)\n",
        "plt.xlabel(\"years\")\n",
        "plt.ylabel(\"time (s)\")"
      ],
      "execution_count": 9,
      "outputs": [
        {
          "output_type": "execute_result",
          "data": {
            "text/plain": [
              "Text(0, 0.5, 'time (s)')"
            ]
          },
          "metadata": {},
          "execution_count": 9
        },
        {
          "output_type": "display_data",
          "data": {
            "image/png": "[encoded data removed]",
            "text/plain": [
              "<Figure size 432x288 with 1 Axes>"
            ]
          },
          "metadata": {
            "needs_background": "light"
          }
        }
      ]
    }
  ]
}